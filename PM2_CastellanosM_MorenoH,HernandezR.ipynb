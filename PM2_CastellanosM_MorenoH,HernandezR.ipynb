{
 "cells": [
  {
   "cell_type": "markdown",
   "metadata": {},
   "source": [
    "## Imágenes Fractales Aleatorias\n",
    "### Concepto:\n",
    "A partir de la teoría  del algoritmo diamante cuadrado nuestro proposito es generar un paisaje tridimensional que asemeje la apariencia de formaciones rocosas a partir de un fractal tipo plasma. Para esto tomaremos el concepto de variable aleatoria, la cuál funciona como una semilla que determina la distribución de la formación. Los datos de la semilla se agrupan en una matriz, y utilizando la teoría del algoritmo diamante cuadrado se van determinando las locaciones de cada punto, ya sea de los pixeles o puntos de la montaña.\n",
    "### Modelo que presenta el problema:\n",
    "La teoría del algoritmo diamante-cuadrado define que se tiene que comenzar con una matriz cuadrada con dimensiones  $2^n +1$, donde la n representa las iteraciones y el +1 nos ayuda a que siempre haya un centro definiendo lados impares. \n",
    "\n",
    "La siguiente imagen representa el comportamiento a seguir del algoritmo, en este caso 2 iteraciones, lo que genera una matriz de 5x5.\n",
    "\n",
    "<img style=\"float: center; \" src=\"https://upload.wikimedia.org/wikipedia/commons/thumb/b/bf/Diamond_Square.svg/1200px-Diamond_Square.svg.png\" width=\"900px\" height=\"300px\" />\n",
    "\n",
    "\n",
    "\n",
    "Como podemos observar en la primera imagen, inicialmente tenemos cuatro esquinas asignadas con valores aleatorios. Utilizando el promedio de las 4 esquinas se genera el centro, a esto se le denomina etapa diamante. Los puntos que quedan en horizontal y vertical a ese centro son generados con el promedio de sus 3 vecinos inmediatos, este paso es lo que se conoce como etapa cuadrado. Este proceso se repite hasta que todas las casillas quedan ocupadas, donde el número de veces que se repite este proceso, son las iteraciones definidas, en el caso de este ejemplo 2 veces. \n",
    "\n",
    "Limitaciones del algoritmo: A partir de n>8 existen limitaciones de Hardware para ejecutarse."
   ]
  },
  {
   "cell_type": "markdown",
   "metadata": {},
   "source": [
    "## Solución del Problema:\n",
    "\n",
    "A partir de lo ya mencionado antes, procederemos con la construcción del paisaje rocoso."
   ]
  },
  {
   "cell_type": "code",
   "execution_count": null,
   "metadata": {},
   "outputs": [],
   "source": []
  }
 ],
 "metadata": {
  "kernelspec": {
   "display_name": "Python 3",
   "language": "python",
   "name": "python3"
  },
  "language_info": {
   "codemirror_mode": {
    "name": "ipython",
    "version": 3
   },
   "file_extension": ".py",
   "mimetype": "text/x-python",
   "name": "python",
   "nbconvert_exporter": "python",
   "pygments_lexer": "ipython3",
   "version": "3.7.1"
  }
 },
 "nbformat": 4,
 "nbformat_minor": 2
}
